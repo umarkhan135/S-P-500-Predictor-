{
 "cells": [
  {
   "cell_type": "code",
   "execution_count": 1,
   "id": "7391a76e",
   "metadata": {},
   "outputs": [
    {
     "ename": "ModuleNotFoundError",
     "evalue": "No module named 'yfinance'",
     "output_type": "error",
     "traceback": [
      "\u001b[1;31m---------------------------------------------------------------------------\u001b[0m",
      "\u001b[1;31mModuleNotFoundError\u001b[0m                       Traceback (most recent call last)",
      "\u001b[1;32m<ipython-input-1-7ddb59f76e5e>\u001b[0m in \u001b[0;36m<module>\u001b[1;34m\u001b[0m\n\u001b[1;32m----> 1\u001b[1;33m \u001b[1;32mimport\u001b[0m \u001b[0myfinance\u001b[0m \u001b[1;32mas\u001b[0m \u001b[0myf\u001b[0m\u001b[1;33m\u001b[0m\u001b[1;33m\u001b[0m\u001b[0m\n\u001b[0m\u001b[0;32m      2\u001b[0m \u001b[1;33m\u001b[0m\u001b[0m\n\u001b[0;32m      3\u001b[0m \u001b[0msp500\u001b[0m \u001b[1;33m=\u001b[0m \u001b[0myf\u001b[0m\u001b[1;33m.\u001b[0m\u001b[0mTicker\u001b[0m\u001b[1;33m(\u001b[0m\u001b[1;34m\"^GSPC\"\u001b[0m\u001b[1;33m)\u001b[0m\u001b[1;33m\u001b[0m\u001b[1;33m\u001b[0m\u001b[0m\n\u001b[0;32m      4\u001b[0m \u001b[0msp500\u001b[0m \u001b[1;33m=\u001b[0m \u001b[0msp500\u001b[0m\u001b[1;33m.\u001b[0m\u001b[0mhistory\u001b[0m\u001b[1;33m(\u001b[0m\u001b[0mperiod\u001b[0m\u001b[1;33m=\u001b[0m\u001b[1;34m\"max\"\u001b[0m\u001b[1;33m)\u001b[0m\u001b[1;33m\u001b[0m\u001b[1;33m\u001b[0m\u001b[0m\n\u001b[0;32m      5\u001b[0m \u001b[1;33m\u001b[0m\u001b[0m\n",
      "\u001b[1;31mModuleNotFoundError\u001b[0m: No module named 'yfinance'"
     ]
    }
   ],
   "source": [
    "import yfinance as yf\n",
    "\n",
    "sp500 = yf.Ticker(\"^GSPC\")\n",
    "sp500 = sp500.history(period=\"max\")\n",
    "\n",
    "print(sp500)\n",
    "\n",
    "sp500.plot.line(y=\"Close\", use_index=True)"
   ]
  },
  {
   "cell_type": "code",
   "execution_count": 3,
   "id": "be1dd089",
   "metadata": {},
   "outputs": [],
   "source": [
    "del sp500[\"Dividends\"]\n",
    "del sp500[\"Stock Splits\"]"
   ]
  },
  {
   "cell_type": "code",
   "execution_count": 7,
   "id": "01c2f817",
   "metadata": {},
   "outputs": [],
   "source": [
    "#setting up target\n",
    "\n",
    "sp500[\"Tomorrow\"] = sp500[\"Close\"].shift(-1)\n",
    "sp500[\"Target\"] = (sp500[\"Tomorrow\"] > sp500[\"Close\"]).astype(int)"
   ]
  },
  {
   "cell_type": "code",
   "execution_count": 8,
   "id": "cbd77a7d",
   "metadata": {},
   "outputs": [
    {
     "name": "stdout",
     "output_type": "stream",
     "text": [
      "                                  Open         High          Low        Close  \\\n",
      "Date                                                                            \n",
      "1927-12-30 00:00:00-05:00    17.660000    17.660000    17.660000    17.660000   \n",
      "1928-01-03 00:00:00-05:00    17.760000    17.760000    17.760000    17.760000   \n",
      "1928-01-04 00:00:00-05:00    17.719999    17.719999    17.719999    17.719999   \n",
      "1928-01-05 00:00:00-05:00    17.549999    17.549999    17.549999    17.549999   \n",
      "1928-01-06 00:00:00-05:00    17.660000    17.660000    17.660000    17.660000   \n",
      "...                                ...          ...          ...          ...   \n",
      "2024-01-08 00:00:00-05:00  4703.700195  4764.540039  4699.819824  4763.540039   \n",
      "2024-01-09 00:00:00-05:00  4741.930176  4765.470215  4730.350098  4756.500000   \n",
      "2024-01-10 00:00:00-05:00  4759.939941  4790.799805  4756.200195  4783.450195   \n",
      "2024-01-11 00:00:00-05:00  4792.129883  4798.500000  4739.580078  4780.240234   \n",
      "2024-01-12 00:00:00-05:00  4791.180176  4802.399902  4768.979980  4773.689941   \n",
      "\n",
      "                               Volume  Dividends  Stock Splits     Tomorrow  \\\n",
      "Date                                                                          \n",
      "1927-12-30 00:00:00-05:00           0        0.0           0.0    17.760000   \n",
      "1928-01-03 00:00:00-05:00           0        0.0           0.0    17.719999   \n",
      "1928-01-04 00:00:00-05:00           0        0.0           0.0    17.549999   \n",
      "1928-01-05 00:00:00-05:00           0        0.0           0.0    17.660000   \n",
      "1928-01-06 00:00:00-05:00           0        0.0           0.0    17.500000   \n",
      "...                               ...        ...           ...          ...   \n",
      "2024-01-08 00:00:00-05:00  3742320000        0.0           0.0  4756.500000   \n",
      "2024-01-09 00:00:00-05:00  3529960000        0.0           0.0  4783.450195   \n",
      "2024-01-10 00:00:00-05:00  3498680000        0.0           0.0  4780.240234   \n",
      "2024-01-11 00:00:00-05:00  3759890000        0.0           0.0  4773.689941   \n",
      "2024-01-12 00:00:00-05:00   819151939        0.0           0.0          NaN   \n",
      "\n",
      "                           Target  \n",
      "Date                               \n",
      "1927-12-30 00:00:00-05:00       1  \n",
      "1928-01-03 00:00:00-05:00       0  \n",
      "1928-01-04 00:00:00-05:00       0  \n",
      "1928-01-05 00:00:00-05:00       1  \n",
      "1928-01-06 00:00:00-05:00       0  \n",
      "...                           ...  \n",
      "2024-01-08 00:00:00-05:00       0  \n",
      "2024-01-09 00:00:00-05:00       1  \n",
      "2024-01-10 00:00:00-05:00       0  \n",
      "2024-01-11 00:00:00-05:00       0  \n",
      "2024-01-12 00:00:00-05:00       0  \n",
      "\n",
      "[24124 rows x 9 columns]\n"
     ]
    }
   ],
   "source": [
    "print(sp500)"
   ]
  },
  {
   "cell_type": "code",
   "execution_count": 9,
   "id": "51188f4b",
   "metadata": {},
   "outputs": [
    {
     "name": "stdout",
     "output_type": "stream",
     "text": [
      "                                  Open         High          Low        Close  \\\n",
      "Date                                                                            \n",
      "1990-01-02 00:00:00-05:00   353.399994   359.690002   351.980011   359.690002   \n",
      "1990-01-03 00:00:00-05:00   359.690002   360.589996   357.890015   358.760010   \n",
      "1990-01-04 00:00:00-05:00   358.760010   358.760010   352.890015   355.670013   \n",
      "1990-01-05 00:00:00-05:00   355.670013   355.670013   351.350006   352.200012   \n",
      "1990-01-08 00:00:00-05:00   352.200012   354.239990   350.540009   353.790009   \n",
      "...                                ...          ...          ...          ...   \n",
      "2024-01-08 00:00:00-05:00  4703.700195  4764.540039  4699.819824  4763.540039   \n",
      "2024-01-09 00:00:00-05:00  4741.930176  4765.470215  4730.350098  4756.500000   \n",
      "2024-01-10 00:00:00-05:00  4759.939941  4790.799805  4756.200195  4783.450195   \n",
      "2024-01-11 00:00:00-05:00  4792.129883  4798.500000  4739.580078  4780.240234   \n",
      "2024-01-12 00:00:00-05:00  4791.180176  4802.399902  4768.979980  4773.689941   \n",
      "\n",
      "                               Volume  Dividends  Stock Splits     Tomorrow  \\\n",
      "Date                                                                          \n",
      "1990-01-02 00:00:00-05:00   162070000        0.0           0.0   358.760010   \n",
      "1990-01-03 00:00:00-05:00   192330000        0.0           0.0   355.670013   \n",
      "1990-01-04 00:00:00-05:00   177000000        0.0           0.0   352.200012   \n",
      "1990-01-05 00:00:00-05:00   158530000        0.0           0.0   353.790009   \n",
      "1990-01-08 00:00:00-05:00   140110000        0.0           0.0   349.619995   \n",
      "...                               ...        ...           ...          ...   \n",
      "2024-01-08 00:00:00-05:00  3742320000        0.0           0.0  4756.500000   \n",
      "2024-01-09 00:00:00-05:00  3529960000        0.0           0.0  4783.450195   \n",
      "2024-01-10 00:00:00-05:00  3498680000        0.0           0.0  4780.240234   \n",
      "2024-01-11 00:00:00-05:00  3759890000        0.0           0.0  4773.689941   \n",
      "2024-01-12 00:00:00-05:00   819151939        0.0           0.0          NaN   \n",
      "\n",
      "                           Target  \n",
      "Date                               \n",
      "1990-01-02 00:00:00-05:00       0  \n",
      "1990-01-03 00:00:00-05:00       0  \n",
      "1990-01-04 00:00:00-05:00       0  \n",
      "1990-01-05 00:00:00-05:00       1  \n",
      "1990-01-08 00:00:00-05:00       0  \n",
      "...                           ...  \n",
      "2024-01-08 00:00:00-05:00       0  \n",
      "2024-01-09 00:00:00-05:00       1  \n",
      "2024-01-10 00:00:00-05:00       0  \n",
      "2024-01-11 00:00:00-05:00       0  \n",
      "2024-01-12 00:00:00-05:00       0  \n",
      "\n",
      "[8574 rows x 9 columns]\n"
     ]
    }
   ],
   "source": [
    "#removing all data that came before 1990 \n",
    "\n",
    "sp500 = sp500.loc[\"1990-01-01\":].copy()\n",
    "print(sp500)"
   ]
  },
  {
   "cell_type": "code",
   "execution_count": 2,
   "id": "306ee118",
   "metadata": {},
   "outputs": [
    {
     "ename": "NameError",
     "evalue": "name 'sp500' is not defined",
     "output_type": "error",
     "traceback": [
      "\u001b[1;31m---------------------------------------------------------------------------\u001b[0m",
      "\u001b[1;31mNameError\u001b[0m                                 Traceback (most recent call last)",
      "\u001b[1;32m<ipython-input-2-f2837b00b7cf>\u001b[0m in \u001b[0;36m<module>\u001b[1;34m\u001b[0m\n\u001b[0;32m      3\u001b[0m \u001b[0mmodel\u001b[0m \u001b[1;33m=\u001b[0m \u001b[0mRandomForestClassifier\u001b[0m\u001b[1;33m(\u001b[0m\u001b[0mn_estimators\u001b[0m \u001b[1;33m=\u001b[0m \u001b[1;36m100\u001b[0m\u001b[1;33m,\u001b[0m \u001b[0mmin_samples_split\u001b[0m \u001b[1;33m=\u001b[0m \u001b[1;36m100\u001b[0m\u001b[1;33m,\u001b[0m \u001b[0mrandom_state\u001b[0m \u001b[1;33m=\u001b[0m \u001b[1;36m1\u001b[0m\u001b[1;33m)\u001b[0m\u001b[1;33m\u001b[0m\u001b[1;33m\u001b[0m\u001b[0m\n\u001b[0;32m      4\u001b[0m \u001b[1;33m\u001b[0m\u001b[0m\n\u001b[1;32m----> 5\u001b[1;33m \u001b[0mtrain\u001b[0m \u001b[1;33m=\u001b[0m \u001b[0msp500\u001b[0m\u001b[1;33m.\u001b[0m\u001b[0miloc\u001b[0m\u001b[1;33m[\u001b[0m\u001b[1;33m:\u001b[0m\u001b[1;33m-\u001b[0m\u001b[1;36m100\u001b[0m\u001b[1;33m]\u001b[0m\u001b[1;33m\u001b[0m\u001b[1;33m\u001b[0m\u001b[0m\n\u001b[0m\u001b[0;32m      6\u001b[0m \u001b[0mtest\u001b[0m \u001b[1;33m=\u001b[0m \u001b[0msp500\u001b[0m\u001b[1;33m.\u001b[0m\u001b[0miloc\u001b[0m\u001b[1;33m[\u001b[0m\u001b[1;33m-\u001b[0m\u001b[1;36m100\u001b[0m\u001b[1;33m:\u001b[0m\u001b[1;33m]\u001b[0m\u001b[1;33m\u001b[0m\u001b[1;33m\u001b[0m\u001b[0m\n\u001b[0;32m      7\u001b[0m \u001b[1;33m\u001b[0m\u001b[0m\n",
      "\u001b[1;31mNameError\u001b[0m: name 'sp500' is not defined"
     ]
    }
   ],
   "source": [
    "from sklearn.ensemble import RandomForestClassifier\n",
    "\n",
    "model = RandomForestClassifier(n_estimators = 100, min_samples_split = 100, random_state = 1)\n",
    "\n",
    "train = sp500.iloc[:-100]\n",
    "test = sp500.iloc[-100:]\n",
    "\n",
    "predictors = [\"Close\", \"Volume\", \"Open\", \"High\", \"Low\"]\n",
    "model.fit(train[predictors], train[\"Target\"])"
   ]
  },
  {
   "cell_type": "code",
   "execution_count": 1,
   "id": "f61b0206",
   "metadata": {},
   "outputs": [
    {
     "ename": "ModuleNotFoundError",
     "evalue": "No module named 'yfinance'",
     "output_type": "error",
     "traceback": [
      "\u001b[1;31m---------------------------------------------------------------------------\u001b[0m",
      "\u001b[1;31mModuleNotFoundError\u001b[0m                       Traceback (most recent call last)",
      "\u001b[1;32m<ipython-input-1-0d366e7439ed>\u001b[0m in \u001b[0;36m<module>\u001b[1;34m\u001b[0m\n\u001b[1;32m----> 1\u001b[1;33m \u001b[1;32mimport\u001b[0m \u001b[0myfinance\u001b[0m \u001b[1;32mas\u001b[0m \u001b[0myf\u001b[0m\u001b[1;33m\u001b[0m\u001b[1;33m\u001b[0m\u001b[0m\n\u001b[0m\u001b[0;32m      2\u001b[0m \u001b[1;32mimport\u001b[0m \u001b[0mpandas\u001b[0m \u001b[1;32mas\u001b[0m \u001b[0mpd\u001b[0m\u001b[1;33m\u001b[0m\u001b[1;33m\u001b[0m\u001b[0m\n\u001b[0;32m      3\u001b[0m \u001b[1;32mfrom\u001b[0m \u001b[0msklearn\u001b[0m\u001b[1;33m.\u001b[0m\u001b[0mensemble\u001b[0m \u001b[1;32mimport\u001b[0m \u001b[0mRandomForestClassifier\u001b[0m\u001b[1;33m\u001b[0m\u001b[1;33m\u001b[0m\u001b[0m\n\u001b[0;32m      4\u001b[0m \u001b[1;32mfrom\u001b[0m \u001b[0msklearn\u001b[0m\u001b[1;33m.\u001b[0m\u001b[0mmetrics\u001b[0m \u001b[1;32mimport\u001b[0m \u001b[0mprecision_score\u001b[0m\u001b[1;33m\u001b[0m\u001b[1;33m\u001b[0m\u001b[0m\n\u001b[0;32m      5\u001b[0m \u001b[1;33m\u001b[0m\u001b[0m\n",
      "\u001b[1;31mModuleNotFoundError\u001b[0m: No module named 'yfinance'"
     ]
    }
   ],
   "source": [
    "import yfinance as yf\n",
    "import pandas as pd\n",
    "from sklearn.ensemble import RandomForestClassifier\n",
    "from sklearn.metrics import precision_score\n",
    "\n",
    "sp500 = yf.Ticker(\"^GSPC\")\n",
    "sp500 = sp500.history(period=\"max\")\n",
    "\n",
    "sp500.plot.line(y=\"Close\", use_index=True)\n",
    "\n",
    "del sp500[\"Dividends\"]\n",
    "del sp500[\"Stock Splits\"]\n",
    "\n",
    "#setting up target\n",
    "\n",
    "sp500[\"Tomorrow\"] = sp500[\"Close\"].shift(-1)\n",
    "sp500[\"Target\"] = (sp500[\"Tomorrow\"] > sp500[\"Close\"]).astype(int)\n",
    "\n",
    "#removing all data that came before 1990 \n",
    "\n",
    "sp500 = sp500.loc[\"1990-01-01\":].copy()\n",
    "\n",
    "model = RandomForestClassifier(n_estimators = 100, min_samples_split = 100, random_state = 1)\n",
    "\n",
    "train = sp500.iloc[:-100]\n",
    "test = sp500.iloc[-100:]\n",
    "\n",
    "predictors = [\"Close\", \"Volume\", \"Open\", \"High\", \"Low\"]\n",
    "print(model.fit(train[predictors], train[\"Target\"]))\n",
    "\n",
    "preds = model.predict(test[predictors])\n",
    "preds = pd.Series(preds, index = test.index)\n",
    "print(preds)\n",
    "\n",
    "combined = pd.concat([test[\"Target\"], preds], axis = 1)\n",
    "combined.plot()\n"
   ]
  },
  {
   "cell_type": "code",
   "execution_count": null,
   "id": "20869494",
   "metadata": {},
   "outputs": [],
   "source": []
  }
 ],
 "metadata": {
  "kernelspec": {
   "display_name": "Python 3",
   "language": "python",
   "name": "python3"
  },
  "language_info": {
   "codemirror_mode": {
    "name": "ipython",
    "version": 3
   },
   "file_extension": ".py",
   "mimetype": "text/x-python",
   "name": "python",
   "nbconvert_exporter": "python",
   "pygments_lexer": "ipython3",
   "version": "3.8.8"
  }
 },
 "nbformat": 4,
 "nbformat_minor": 5
}
