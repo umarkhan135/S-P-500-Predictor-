{
 "cells": [
  {
   "cell_type": "code",
   "execution_count": 5,
   "id": "7391a76e",
   "metadata": {},
   "outputs": [
    {
     "name": "stdout",
     "output_type": "stream",
     "text": [
      "                                  Open         High          Low        Close  \\\n",
      "Date                                                                            \n",
      "1927-12-30 00:00:00-05:00    17.660000    17.660000    17.660000    17.660000   \n",
      "1928-01-03 00:00:00-05:00    17.760000    17.760000    17.760000    17.760000   \n",
      "1928-01-04 00:00:00-05:00    17.719999    17.719999    17.719999    17.719999   \n",
      "1928-01-05 00:00:00-05:00    17.549999    17.549999    17.549999    17.549999   \n",
      "1928-01-06 00:00:00-05:00    17.660000    17.660000    17.660000    17.660000   \n",
      "...                                ...          ...          ...          ...   \n",
      "2024-01-08 00:00:00-05:00  4703.700195  4764.540039  4699.819824  4763.540039   \n",
      "2024-01-09 00:00:00-05:00  4741.930176  4765.470215  4730.350098  4756.500000   \n",
      "2024-01-10 00:00:00-05:00  4759.939941  4790.799805  4756.200195  4783.450195   \n",
      "2024-01-11 00:00:00-05:00  4792.129883  4798.500000  4739.580078  4780.240234   \n",
      "2024-01-12 00:00:00-05:00  4791.180176  4802.399902  4768.979980  4773.689941   \n",
      "\n",
      "                               Volume  Dividends  Stock Splits  \n",
      "Date                                                            \n",
      "1927-12-30 00:00:00-05:00           0        0.0           0.0  \n",
      "1928-01-03 00:00:00-05:00           0        0.0           0.0  \n",
      "1928-01-04 00:00:00-05:00           0        0.0           0.0  \n",
      "1928-01-05 00:00:00-05:00           0        0.0           0.0  \n",
      "1928-01-06 00:00:00-05:00           0        0.0           0.0  \n",
      "...                               ...        ...           ...  \n",
      "2024-01-08 00:00:00-05:00  3742320000        0.0           0.0  \n",
      "2024-01-09 00:00:00-05:00  3529960000        0.0           0.0  \n",
      "2024-01-10 00:00:00-05:00  3498680000        0.0           0.0  \n",
      "2024-01-11 00:00:00-05:00  3759890000        0.0           0.0  \n",
      "2024-01-12 00:00:00-05:00   819151939        0.0           0.0  \n",
      "\n",
      "[24124 rows x 7 columns]\n"
     ]
    },
    {
     "data": {
      "text/plain": [
       "<Axes: xlabel='Date'>"
      ]
     },
     "execution_count": 5,
     "metadata": {},
     "output_type": "execute_result"
    },
    {
     "data": {
      "image/png": "[encoded data removed]",
      "text/plain": [
       "<Figure size 432x288 with 1 Axes>"
      ]
     },
     "metadata": {
      "needs_background": "light"
     },
     "output_type": "display_data"
    }
   ],
   "source": [
    "import yfinance as yf\n",
    "\n",
    "sp500 = yf.Ticker(\"^GSPC\")\n",
    "sp500 = sp500.history(period=\"max\")\n",
    "\n",
    "print(sp500)\n",
    "\n",
    "sp500.plot.line(y=\"Close\", use_index=True)"
   ]
  },
  {
   "cell_type": "code",
   "execution_count": 3,
   "id": "be1dd089",
   "metadata": {},
   "outputs": [],
   "source": [
    "del sp500[\"Dividends\"]\n",
    "del sp500[\"Stock Splits\"]"
   ]
  },
  {
   "cell_type": "code",
   "execution_count": 7,
   "id": "01c2f817",
   "metadata": {},
   "outputs": [],
   "source": [
    "#setting up target\n",
    "\n",
    "sp500[\"Tomorrow\"] = sp500[\"Close\"].shift(-1)\n",
    "sp500[\"Target\"] = (sp500[\"Tomorrow\"] > sp500[\"Close\"]).astype(int)"
   ]
  },
  {
   "cell_type": "code",
   "execution_count": 8,
   "id": "cbd77a7d",
   "metadata": {},
   "outputs": [
    {
     "name": "stdout",
     "output_type": "stream",
     "text": [
      "                                  Open         High          Low        Close  \\\n",
      "Date                                                                            \n",
      "1927-12-30 00:00:00-05:00    17.660000    17.660000    17.660000    17.660000   \n",
      "1928-01-03 00:00:00-05:00    17.760000    17.760000    17.760000    17.760000   \n",
      "1928-01-04 00:00:00-05:00    17.719999    17.719999    17.719999    17.719999   \n",
      "1928-01-05 00:00:00-05:00    17.549999    17.549999    17.549999    17.549999   \n",
      "1928-01-06 00:00:00-05:00    17.660000    17.660000    17.660000    17.660000   \n",
      "...                                ...          ...          ...          ...   \n",
      "2024-01-08 00:00:00-05:00  4703.700195  4764.540039  4699.819824  4763.540039   \n",
      "2024-01-09 00:00:00-05:00  4741.930176  4765.470215  4730.350098  4756.500000   \n",
      "2024-01-10 00:00:00-05:00  4759.939941  4790.799805  4756.200195  4783.450195   \n",
      "2024-01-11 00:00:00-05:00  4792.129883  4798.500000  4739.580078  4780.240234   \n",
      "2024-01-12 00:00:00-05:00  4791.180176  4802.399902  4768.979980  4773.689941   \n",
      "\n",
      "                               Volume  Dividends  Stock Splits     Tomorrow  \\\n",
      "Date                                                                          \n",
      "1927-12-30 00:00:00-05:00           0        0.0           0.0    17.760000   \n",
      "1928-01-03 00:00:00-05:00           0        0.0           0.0    17.719999   \n",
      "1928-01-04 00:00:00-05:00           0        0.0           0.0    17.549999   \n",
      "1928-01-05 00:00:00-05:00           0        0.0           0.0    17.660000   \n",
      "1928-01-06 00:00:00-05:00           0        0.0           0.0    17.500000   \n",
      "...                               ...        ...           ...          ...   \n",
      "2024-01-08 00:00:00-05:00  3742320000        0.0           0.0  4756.500000   \n",
      "2024-01-09 00:00:00-05:00  3529960000        0.0           0.0  4783.450195   \n",
      "2024-01-10 00:00:00-05:00  3498680000        0.0           0.0  4780.240234   \n",
      "2024-01-11 00:00:00-05:00  3759890000        0.0           0.0  4773.689941   \n",
      "2024-01-12 00:00:00-05:00   819151939        0.0           0.0          NaN   \n",
      "\n",
      "                           Target  \n",
      "Date                               \n",
      "1927-12-30 00:00:00-05:00       1  \n",
      "1928-01-03 00:00:00-05:00       0  \n",
      "1928-01-04 00:00:00-05:00       0  \n",
      "1928-01-05 00:00:00-05:00       1  \n",
      "1928-01-06 00:00:00-05:00       0  \n",
      "...                           ...  \n",
      "2024-01-08 00:00:00-05:00       0  \n",
      "2024-01-09 00:00:00-05:00       1  \n",
      "2024-01-10 00:00:00-05:00       0  \n",
      "2024-01-11 00:00:00-05:00       0  \n",
      "2024-01-12 00:00:00-05:00       0  \n",
      "\n",
      "[24124 rows x 9 columns]\n"
     ]
    }
   ],
   "source": [
    "print(sp500)"
   ]
  },
  {
   "cell_type": "code",
   "execution_count": 9,
   "id": "51188f4b",
   "metadata": {},
   "outputs": [
    {
     "name": "stdout",
     "output_type": "stream",
     "text": [
      "                                  Open         High          Low        Close  \\\n",
      "Date                                                                            \n",
      "1990-01-02 00:00:00-05:00   353.399994   359.690002   351.980011   359.690002   \n",
      "1990-01-03 00:00:00-05:00   359.690002   360.589996   357.890015   358.760010   \n",
      "1990-01-04 00:00:00-05:00   358.760010   358.760010   352.890015   355.670013   \n",
      "1990-01-05 00:00:00-05:00   355.670013   355.670013   351.350006   352.200012   \n",
      "1990-01-08 00:00:00-05:00   352.200012   354.239990   350.540009   353.790009   \n",
      "...                                ...          ...          ...          ...   \n",
      "2024-01-08 00:00:00-05:00  4703.700195  4764.540039  4699.819824  4763.540039   \n",
      "2024-01-09 00:00:00-05:00  4741.930176  4765.470215  4730.350098  4756.500000   \n",
      "2024-01-10 00:00:00-05:00  4759.939941  4790.799805  4756.200195  4783.450195   \n",
      "2024-01-11 00:00:00-05:00  4792.129883  4798.500000  4739.580078  4780.240234   \n",
      "2024-01-12 00:00:00-05:00  4791.180176  4802.399902  4768.979980  4773.689941   \n",
      "\n",
      "                               Volume  Dividends  Stock Splits     Tomorrow  \\\n",
      "Date                                                                          \n",
      "1990-01-02 00:00:00-05:00   162070000        0.0           0.0   358.760010   \n",
      "1990-01-03 00:00:00-05:00   192330000        0.0           0.0   355.670013   \n",
      "1990-01-04 00:00:00-05:00   177000000        0.0           0.0   352.200012   \n",
      "1990-01-05 00:00:00-05:00   158530000        0.0           0.0   353.790009   \n",
      "1990-01-08 00:00:00-05:00   140110000        0.0           0.0   349.619995   \n",
      "...                               ...        ...           ...          ...   \n",
      "2024-01-08 00:00:00-05:00  3742320000        0.0           0.0  4756.500000   \n",
      "2024-01-09 00:00:00-05:00  3529960000        0.0           0.0  4783.450195   \n",
      "2024-01-10 00:00:00-05:00  3498680000        0.0           0.0  4780.240234   \n",
      "2024-01-11 00:00:00-05:00  3759890000        0.0           0.0  4773.689941   \n",
      "2024-01-12 00:00:00-05:00   819151939        0.0           0.0          NaN   \n",
      "\n",
      "                           Target  \n",
      "Date                               \n",
      "1990-01-02 00:00:00-05:00       0  \n",
      "1990-01-03 00:00:00-05:00       0  \n",
      "1990-01-04 00:00:00-05:00       0  \n",
      "1990-01-05 00:00:00-05:00       1  \n",
      "1990-01-08 00:00:00-05:00       0  \n",
      "...                           ...  \n",
      "2024-01-08 00:00:00-05:00       0  \n",
      "2024-01-09 00:00:00-05:00       1  \n",
      "2024-01-10 00:00:00-05:00       0  \n",
      "2024-01-11 00:00:00-05:00       0  \n",
      "2024-01-12 00:00:00-05:00       0  \n",
      "\n",
      "[8574 rows x 9 columns]\n"
     ]
    }
   ],
   "source": [
    "#removing all data that came before 1990 \n",
    "\n",
    "sp500 = sp500.loc[\"1990-01-01\":].copy()\n",
    "print(sp500)"
   ]
  },
  {
   "cell_type": "code",
   "execution_count": 10,
   "id": "306ee118",
   "metadata": {},
   "outputs": [
    {
     "name": "stderr",
     "output_type": "stream",
     "text": [
      "/Users/umarkhan/opt/anaconda3/lib/python3.9/site-packages/scipy/__init__.py:146: UserWarning: A NumPy version >=1.16.5 and <1.23.0 is required for this version of SciPy (detected version 1.26.0\n",
      "  warnings.warn(f\"A NumPy version >={np_minversion} and <{np_maxversion}\"\n"
     ]
    },
    {
     "data": {
      "text/plain": [
       "RandomForestClassifier(min_samples_split=100, random_state=1)"
      ]
     },
     "execution_count": 10,
     "metadata": {},
     "output_type": "execute_result"
    }
   ],
   "source": [
    "from sklearn.ensemble import RandomForestClassifier\n",
    "\n",
    "model = RandomForestClassifier(n_estimators = 100, min_samples_split = 100, random_state = 1)\n",
    "\n",
    "train = sp500.iloc[:-100]\n",
    "test = sp500.iloc[-100:]\n",
    "\n",
    "predictors = [\"Close\", \"Volume\", \"Open\", \"High\", \"Low\"]\n",
    "model.fit(train[predictors], train[\"Target\"])"
   ]
  },
  {
   "cell_type": "code",
   "execution_count": null,
   "id": "f61b0206",
   "metadata": {},
   "outputs": [],
   "source": []
  }
 ],
 "metadata": {
  "kernelspec": {
   "display_name": "Python 3 (ipykernel)",
   "language": "python",
   "name": "python3"
  },
  "language_info": {
   "codemirror_mode": {
    "name": "ipython",
    "version": 3
   },
   "file_extension": ".py",
   "mimetype": "text/x-python",
   "name": "python",
   "nbconvert_exporter": "python",
   "pygments_lexer": "ipython3",
   "version": "3.9.7"
  }
 },
 "nbformat": 4,
 "nbformat_minor": 5
}
